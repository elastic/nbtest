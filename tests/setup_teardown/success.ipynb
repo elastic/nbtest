{
 "cells": [
  {
   "cell_type": "code",
   "execution_count": 1,
   "id": "75339a5d-8b88-4429-8e06-087923287b5e",
   "metadata": {},
   "outputs": [
    {
     "name": "stdout",
     "output_type": "stream",
     "text": [
      "This notebook should pass tests\n"
     ]
    }
   ],
   "source": [
    "print('This notebook should pass tests')"
   ]
  }
 ],
 "metadata": {
  "kernelspec": {
   "display_name": "Python 3 (ipykernel)",
   "language": "python",
   "name": "python3"
  },
  "language_info": {
   "codemirror_mode": {
    "name": "ipython",
    "version": 3
   },
   "file_extension": ".py",
   "mimetype": "text/x-python",
   "name": "python",
   "nbconvert_exporter": "python",
   "pygments_lexer": "ipython3",
   "version": "3.10.13"
  }
 },
 "nbformat": 4,
 "nbformat_minor": 5
}
