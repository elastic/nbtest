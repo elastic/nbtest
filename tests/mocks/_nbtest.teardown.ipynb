{
 "cells": [
  {
   "cell_type": "code",
   "execution_count": null,
   "id": "bbca30a8-5a64-4fd9-9f3d-4c50f687314f",
   "metadata": {},
   "outputs": [],
   "source": [
    "import csv\n",
    "csv.Sniffer().sniff()"
   ]
  },
  {
   "cell_type": "code",
   "execution_count": null,
   "id": "d33694e8-2072-4987-8e2b-e63ef79acc17",
   "metadata": {},
   "outputs": [],
   "source": [
    "with open('_teardown.txt', 'wt') as f:\n",
    "    f.write(f'teardown: {NBTEST}\\n')"
   ]
  }
 ],
 "metadata": {
  "kernelspec": {
   "display_name": "Python 3 (ipykernel)",
   "language": "python",
   "name": "python3"
  },
  "language_info": {
   "codemirror_mode": {
    "name": "ipython",
    "version": 3
   },
   "file_extension": ".py",
   "mimetype": "text/x-python",
   "name": "python",
   "nbconvert_exporter": "python",
   "pygments_lexer": "ipython3",
   "version": "3.10.13"
  }
 },
 "nbformat": 4,
 "nbformat_minor": 5
}
